{
 "cells": [
  {
   "cell_type": "code",
   "execution_count": null,
   "id": "ff6b0070",
   "metadata": {},
   "outputs": [],
   "source": [
    "import pandas as pd\n",
    "import numpy as np\n",
    "import matplotlib.pyplot as plt\n",
    "%matplotlib inline\n",
    "import seaborn as sns\n",
    "import scipy"
   ]
  },
  {
   "cell_type": "code",
   "execution_count": null,
   "id": "50480f94",
   "metadata": {},
   "outputs": [],
   "source": [
    "from scipy import stats\n",
    "import statsmodels.formula.api as smf\n",
    "from statsmodels.graphics.regressionplots import influence_plot\n"
   ]
  },
  {
   "cell_type": "code",
   "execution_count": null,
   "id": "b3c878be",
   "metadata": {},
   "outputs": [],
   "source": [
    "corolla = pd.read_csv('toyoto_corrola.csv')"
   ]
  },
  {
   "cell_type": "code",
   "execution_count": null,
   "id": "768c1576",
   "metadata": {},
   "outputs": [],
   "source": [
    "corolla.head()"
   ]
  },
  {
   "cell_type": "code",
   "execution_count": null,
   "id": "251e84c3",
   "metadata": {},
   "outputs": [],
   "source": [
    "corolla.info()"
   ]
  },
  {
   "cell_type": "code",
   "execution_count": null,
   "id": "e7c0e260",
   "metadata": {},
   "outputs": [],
   "source": [
    "corolla = corolla.drop(['Model','Id'],axis=1)"
   ]
  },
  {
   "cell_type": "code",
   "execution_count": null,
   "id": "3e5c8908",
   "metadata": {},
   "outputs": [],
   "source": [
    "corolla.head()"
   ]
  },
  {
   "cell_type": "code",
   "execution_count": null,
   "id": "a2fc587f",
   "metadata": {},
   "outputs": [],
   "source": [
    "corolla.isna().sum()"
   ]
  },
  {
   "cell_type": "code",
   "execution_count": null,
   "id": "10048500",
   "metadata": {},
   "outputs": [],
   "source": [
    "corolla.corr()"
   ]
  },
  {
   "cell_type": "code",
   "execution_count": null,
   "id": "8a545097",
   "metadata": {},
   "outputs": [],
   "source": [
    "corolla.info()"
   ]
  },
  {
   "cell_type": "code",
   "execution_count": null,
   "id": "f75d38f2",
   "metadata": {},
   "outputs": [],
   "source": []
  },
  {
   "cell_type": "code",
   "execution_count": null,
   "id": "27b70c91",
   "metadata": {},
   "outputs": [],
   "source": [
    "sns.set_style(style='darkgrid')\n",
    "sns.pairplot(corolla)"
   ]
  },
  {
   "cell_type": "code",
   "execution_count": null,
   "id": "dc82d7b9",
   "metadata": {},
   "outputs": [],
   "source": [
    "corolla.tail()"
   ]
  },
  {
   "cell_type": "code",
   "execution_count": null,
   "id": "dcdc10cf",
   "metadata": {},
   "outputs": [],
   "source": [
    "corolla = corolla.rename({'Age_08_04':'Age'},axis=1)\n"
   ]
  },
  {
   "cell_type": "code",
   "execution_count": null,
   "id": "1a67f303",
   "metadata": {},
   "outputs": [],
   "source": [
    "corolla.head()"
   ]
  },
  {
   "cell_type": "code",
   "execution_count": null,
   "id": "2d326111",
   "metadata": {},
   "outputs": [],
   "source": [
    "corolla[corolla.duplicated()]"
   ]
  },
  {
   "cell_type": "code",
   "execution_count": null,
   "id": "8b277d8d",
   "metadata": {},
   "outputs": [],
   "source": [
    "corolla = corolla.drop_duplicates().reset_index(drop=True)"
   ]
  },
  {
   "cell_type": "code",
   "execution_count": null,
   "id": "cdda2237",
   "metadata": {},
   "outputs": [],
   "source": [
    "corolla[corolla.duplicated()]"
   ]
  },
  {
   "cell_type": "code",
   "execution_count": null,
   "id": "7f012c02",
   "metadata": {},
   "outputs": [],
   "source": [
    "#Building a model\n",
    "\n",
    "import statsmodels.formula.api as smf\n",
    "model = smf.ols('Price~Age+KM+HP+Doors+Cylinders+Gears+Weight',data=corolla).fit()"
   ]
  },
  {
   "cell_type": "markdown",
   "id": "c0507324",
   "metadata": {},
   "source": []
  },
  {
   "cell_type": "code",
   "execution_count": null,
   "id": "80a31020",
   "metadata": {},
   "outputs": [],
   "source": [
    "model.params"
   ]
  },
  {
   "cell_type": "code",
   "execution_count": null,
   "id": "8b2f9b36",
   "metadata": {},
   "outputs": [],
   "source": [
    "print(model.tvalues,'\\n',np.round(model.pvalues,5))"
   ]
  },
  {
   "cell_type": "code",
   "execution_count": null,
   "id": "1c885599",
   "metadata": {},
   "outputs": [],
   "source": [
    "(model.rsquared,model.rsquared_adj) #Current model accuracy is 86.15%"
   ]
  },
  {
   "cell_type": "code",
   "execution_count": null,
   "id": "4c720980",
   "metadata": {},
   "outputs": [],
   "source": [
    "# Build SLR and MLR models for insignificant variable 'Doors'(it's p value is greater then 0.05)\n",
    "# Also find their tvalues and pvalues"
   ]
  },
  {
   "cell_type": "markdown",
   "id": "d2b8879d",
   "metadata": {},
   "source": [
    "# Regresiion models\n"
   ]
  },
  {
   "cell_type": "code",
   "execution_count": null,
   "id": "6641c28c",
   "metadata": {},
   "outputs": [],
   "source": [
    "model_d = smf.ols('Price~Doors',data=corolla).fit()\n",
    "print(model_d.tvalues,model_d.pvalues)"
   ]
  },
  {
   "cell_type": "markdown",
   "id": "a82ca6ca",
   "metadata": {},
   "source": [
    "# Model Validation Techniques\n",
    "Two Techniques: 1. Collinearity Check & 2. Residual Analysis"
   ]
  },
  {
   "cell_type": "code",
   "execution_count": null,
   "id": "92a89791",
   "metadata": {},
   "outputs": [],
   "source": [
    "#Collinearity problem check\n",
    "#Calculate VIF = 1/(1-Rsquare) for all independent variable\n",
    "\n",
    "rsq_hp = smf.ols('HP~KM+Age+Doors+Cylinders+Gears+Weight',data=corolla).fit().rsquared\n",
    "vif_hp = 1/(1-rsq_hp)\n",
    "\n",
    "rsq_km = smf.ols('KM~Age+HP+Doors+Cylinders+Gears+Weight',data=corolla).fit().rsquared\n",
    "vif_km = 1/(1-rsq_km)\n",
    "\n",
    "rsq_age = smf.ols('Age~KM+HP+Doors+Cylinders+Gears+Weight',data=corolla).fit().rsquared\n",
    "vif_age = 1/(1-rsq_age)\n",
    "\n",
    "rsq_doors = smf.ols('Doors~KM+HP+Age+Cylinders+Gears+Weight',data=corolla).fit().rsquared\n",
    "vif_doors = 1/(1-rsq_doors)\n",
    "\n",
    "rsq_cyl = smf.ols('Cylinders~KM+HP+Doors+Age+Gears+Weight',data=corolla).fit().rsquared\n",
    "vif_cyl = 1/(1-rsq_cyl)\n",
    "\n",
    "rsq_gears = smf.ols('Gears~KM+HP+Doors+Cylinders+Age+Weight',data=corolla).fit().rsquared\n",
    "vif_gears = 1/(1-rsq_gears)\n",
    "\n",
    "rsq_weight = smf.ols('Weight~KM+HP+Doors+Cylinders+Gears+Age',data=corolla).fit().rsquared\n",
    "vif_weight = 1/(1-rsq_weight)\n",
    "\n",
    "d1 = {'Variables':['HP','Age','KM','Weight','Cylinders','Gears','Doors'],'VIF':[vif_age,vif_km,vif_hp,vif_cyl,vif_gears,vif_weight,vif_doors]}\n",
    "Vif_frame = pd.DataFrame(d1)  \n",
    "Vif_frame\n"
   ]
  },
  {
   "cell_type": "code",
   "execution_count": null,
   "id": "54d95082",
   "metadata": {},
   "outputs": [],
   "source": [
    "# None variable has VIF>20, No Collinearity, so consider all varaibles in Regression equation"
   ]
  },
  {
   "cell_type": "code",
   "execution_count": null,
   "id": "c383fc10",
   "metadata": {},
   "outputs": [],
   "source": [
    "#Residual Analysis\n",
    "# Test for Normality of Residuals (Q-Q Plot) using residual model (model.resid)\n",
    "\n",
    "import statsmodels.api as sm\n",
    "qqplot = sm.qqplot(model.resid,line='q')\n",
    "plt.title('Normal Q-Q plot of residuals')\n",
    "plt.show()"
   ]
  },
  {
   "cell_type": "code",
   "execution_count": null,
   "id": "c131e19f",
   "metadata": {},
   "outputs": [],
   "source": [
    "list(np.where(model.resid>6000)) #Outlier detection from Q-Q plot"
   ]
  },
  {
   "cell_type": "code",
   "execution_count": null,
   "id": "bad87146",
   "metadata": {},
   "outputs": [],
   "source": [
    "list(np.where(model.resid<-6000))"
   ]
  },
  {
   "cell_type": "code",
   "execution_count": null,
   "id": "68bf2727",
   "metadata": {},
   "outputs": [],
   "source": [
    "# Test for Homoscedasticity or Heteroscedasticity (plotting model's standardized fitted values vs standardized residual\n",
    "\n",
    "def get_standardized_values(vals):\n",
    "    return (vals - vals.mean())/vals.std()"
   ]
  },
  {
   "cell_type": "code",
   "execution_count": null,
   "id": "cfc09521",
   "metadata": {},
   "outputs": [],
   "source": [
    "plt.scatter(get_standardized_values(model.fittedvalues),get_standardized_values(model.resid))\n",
    "\n",
    "plt.title('Residual plot')\n",
    "plt.xlabel('Standardized Fitted Values')\n",
    "plt.ylabel('Standardized residual values')\n",
    "plt.show()"
   ]
  },
  {
   "cell_type": "code",
   "execution_count": null,
   "id": "6884b9f9",
   "metadata": {},
   "outputs": [],
   "source": [
    "# Test for errors or Residuals Vs Regressors or independent 'x' variables or predictors \n",
    "# using Residual Regression Plots code graphics.plot_regress_exog(model,'x',fig)    # exog = x-variable & endog = y"
   ]
  },
  {
   "cell_type": "code",
   "execution_count": null,
   "id": "87f29058",
   "metadata": {},
   "outputs": [],
   "source": [
    "fig = plt.figure(figsize=(15,8))\n",
    "fig = sm.graphics.plot_regress_exog(model,\"Age\",fig=fig)\n",
    "plt.show()"
   ]
  },
  {
   "cell_type": "code",
   "execution_count": null,
   "id": "92a9c4c1",
   "metadata": {},
   "outputs": [],
   "source": [
    "fig = plt.figure(figsize=(15,8))\n",
    "fig = sm.graphics.plot_regress_exog(model,\"KM\",fig=fig)\n",
    "plt.show()"
   ]
  },
  {
   "cell_type": "code",
   "execution_count": null,
   "id": "50005bd1",
   "metadata": {},
   "outputs": [],
   "source": [
    "fig = plt.figure(figsize=(15,8))\n",
    "fig = sm.graphics.plot_regress_exog(model,'HP',fig=fig)\n",
    "plt.show()"
   ]
  },
  {
   "cell_type": "code",
   "execution_count": null,
   "id": "a7f0e37e",
   "metadata": {},
   "outputs": [],
   "source": [
    "fig = plt.figure(figsize=(15,8))\n",
    "fig = sm.graphics.plot_regress_exog(model,'Doors',fig=fig)\n",
    "plt.show()"
   ]
  },
  {
   "cell_type": "code",
   "execution_count": null,
   "id": "e9aedc46",
   "metadata": {},
   "outputs": [],
   "source": [
    "fig = plt.figure(figsize=(15,8))\n",
    "fig = sm.graphics.plot_regress_exog(model,'Cylinders',fig=fig)\n",
    "plt.show()"
   ]
  },
  {
   "cell_type": "code",
   "execution_count": null,
   "id": "2f646704",
   "metadata": {},
   "outputs": [],
   "source": [
    "fig = plt.figure(figsize=(15,8))\n",
    "fig = sm.graphics.plot_regress_exog(model,'Gears',fig=fig)\n",
    "plt.show()"
   ]
  },
  {
   "cell_type": "code",
   "execution_count": null,
   "id": "bf5a0e61",
   "metadata": {},
   "outputs": [],
   "source": [
    "fig = plt.figure(figsize=(15,8))\n",
    "fig = sm.graphics.plot_regress_exog(model,'Weight',fig=fig)\n",
    "plt.show()"
   ]
  },
  {
   "cell_type": "markdown",
   "id": "1ed8a144",
   "metadata": {},
   "source": [
    "# Model Deletion Diagnostics (checking Outliers or Influencers)\n",
    "Two Techniques : 1. Cook's Distance & 2. Leverage value"
   ]
  },
  {
   "cell_type": "code",
   "execution_count": null,
   "id": "79ca723d",
   "metadata": {},
   "outputs": [],
   "source": [
    "model_influence = model.get_influence()\n",
    "(c, _) = model_influence.cooks_distance\n"
   ]
  },
  {
   "cell_type": "code",
   "execution_count": null,
   "id": "6e2b6cc4",
   "metadata": {},
   "outputs": [],
   "source": [
    "fig  = plt.subplots(figsize=(20,7))\n",
    "plt.stem(np.arange(len(corolla)),np.round(c,3))\n",
    "plt.xlabel('Row index')\n",
    "plt.ylabel('Cooks Distance')\n",
    "plt.show()"
   ]
  },
  {
   "cell_type": "code",
   "execution_count": null,
   "id": "294084fb",
   "metadata": {},
   "outputs": [],
   "source": [
    "# Index and value of influencer where C>0.5\n",
    "(np.argmax(c),np.max(c))"
   ]
  },
  {
   "cell_type": "code",
   "execution_count": null,
   "id": "24bc0e66",
   "metadata": {},
   "outputs": [],
   "source": [
    "from statsmodels.graphics.regressionplots import influence_plot\n",
    "influence_plot(model)\n",
    "plt.show()"
   ]
  },
  {
   "cell_type": "code",
   "execution_count": null,
   "id": "4abea05b",
   "metadata": {},
   "outputs": [],
   "source": [
    "k  = corolla.shape[1]\n",
    "n  = corolla.shape[0]\n",
    "leverage_cutoff = 3*((k+1)/n)\n"
   ]
  },
  {
   "cell_type": "code",
   "execution_count": null,
   "id": "d123d7b7",
   "metadata": {},
   "outputs": [],
   "source": [
    "leverage_cutoff"
   ]
  },
  {
   "cell_type": "code",
   "execution_count": null,
   "id": "04ef00ab",
   "metadata": {},
   "outputs": [],
   "source": [
    "corolla[corolla.index.isin([220])]"
   ]
  },
  {
   "cell_type": "markdown",
   "id": "c9164456",
   "metadata": {},
   "source": [
    "# Improving the model"
   ]
  },
  {
   "cell_type": "code",
   "execution_count": null,
   "id": "d70b061d",
   "metadata": {},
   "outputs": [],
   "source": [
    "corolla_new = corolla.copy()\n",
    "corolla_new"
   ]
  },
  {
   "cell_type": "code",
   "execution_count": null,
   "id": "36e1d8b0",
   "metadata": {},
   "outputs": [],
   "source": [
    "df = corolla_new.drop(corolla_new.index[[220]],axis=0).reset_index()"
   ]
  },
  {
   "cell_type": "code",
   "execution_count": null,
   "id": "3b6d4c5b",
   "metadata": {},
   "outputs": [],
   "source": [
    "df.head()"
   ]
  },
  {
   "cell_type": "code",
   "execution_count": null,
   "id": "70c7ef5b",
   "metadata": {},
   "outputs": [],
   "source": [
    "df = df.drop(['index'],axis=1)"
   ]
  },
  {
   "cell_type": "code",
   "execution_count": null,
   "id": "373510b9",
   "metadata": {},
   "outputs": [],
   "source": [
    "df.head()"
   ]
  },
  {
   "cell_type": "markdown",
   "id": "e423971d",
   "metadata": {},
   "source": [
    "# Model Deletion Diagnostics and Final Model"
   ]
  },
  {
   "cell_type": "code",
   "execution_count": null,
   "id": "128d56b9",
   "metadata": {},
   "outputs": [],
   "source": [
    "while model.rsquared < 0.90:\n",
    "    for c in [np.max(c)>0.5]:\n",
    "        model=smf.ols('Price~Age+KM+HP+Doors+Cylinders+Gears+Weight',data=df).fit()\n",
    "        (c,_)=model.get_influence().cooks_distance\n",
    "        c\n",
    "        np.argmax(c) , np.max(c)\n",
    "        df=df.drop(df.index[[np.argmax(c)]],axis=0).reset_index(drop=True)\n",
    "        df\n",
    "    else:\n",
    "        final_model=smf.ols('Price~Age+KM+HP+Doors+Cylinders+Gears+Weight',data=df).fit()\n",
    "        final_model.rsquared , final_model.aic\n",
    "        print(\"Thus model accuracy is improved to\",final_model.rsquared)"
   ]
  },
  {
   "cell_type": "code",
   "execution_count": null,
   "id": "ac93bb02",
   "metadata": {},
   "outputs": [],
   "source": [
    "new_data = pd.DataFrame({'Age':71,'KM':17016,'HP':86,'Doors':3,'Cylinders':4,'Gears':5,'Weight':1015},index=[1])"
   ]
  },
  {
   "cell_type": "code",
   "execution_count": null,
   "id": "aa47f722",
   "metadata": {},
   "outputs": [],
   "source": [
    "new_data"
   ]
  },
  {
   "cell_type": "code",
   "execution_count": null,
   "id": "67eaafd3",
   "metadata": {},
   "outputs": [],
   "source": [
    "final_model.predict(new_data)"
   ]
  },
  {
   "cell_type": "code",
   "execution_count": null,
   "id": "ee11f22d",
   "metadata": {},
   "outputs": [],
   "source": [
    "pred_x = final_model.predict(df)"
   ]
  },
  {
   "cell_type": "code",
   "execution_count": null,
   "id": "4f286da7",
   "metadata": {},
   "outputs": [],
   "source": [
    "pred_x"
   ]
  },
  {
   "cell_type": "code",
   "execution_count": null,
   "id": "1e5abb0f",
   "metadata": {},
   "outputs": [],
   "source": [
    "df.head()"
   ]
  },
  {
   "cell_type": "code",
   "execution_count": null,
   "id": "8809a617",
   "metadata": {},
   "outputs": [],
   "source": [
    "df.tail()"
   ]
  },
  {
   "cell_type": "code",
   "execution_count": null,
   "id": "26ab9bee",
   "metadata": {},
   "outputs": [],
   "source": []
  }
 ],
 "metadata": {
  "kernelspec": {
   "display_name": "Python 3 (ipykernel)",
   "language": "python",
   "name": "python3"
  },
  "language_info": {
   "codemirror_mode": {
    "name": "ipython",
    "version": 3
   },
   "file_extension": ".py",
   "mimetype": "text/x-python",
   "name": "python",
   "nbconvert_exporter": "python",
   "pygments_lexer": "ipython3",
   "version": "3.11.3"
  }
 },
 "nbformat": 4,
 "nbformat_minor": 5
}
